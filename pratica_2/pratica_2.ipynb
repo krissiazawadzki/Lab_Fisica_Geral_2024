{
 "cells": [
  {
   "cell_type": "markdown",
   "id": "20114aa3",
   "metadata": {},
   "source": [
    "# Gráficos: linear, semi-log, log-log e fit de funções lineares\n",
    "\n",
    "A prática 2 ilustra muito bem como gráficos permitem apresentar de maneira eficaz a relação entre duas grandezas físicas. Gráficos nos ajudam a estudar fenômenos e predizer comportamentos.\n",
    "\n",
    "Os experimentos da prática 2 servem para analisar a deformação de uma barra metálica quando sujeita a uma força em uma das suas extremidades. Diversos sistemas se comportam como\n",
    "\n",
    "$$\\vec{F} = k \\vec{x},$$\n",
    "\n",
    "onde $\\vec{F} = F \\hat{x}$ é o vetor que descreve a força (amplitude e direção), e $\\vec{x} = x \\hat{x}$ dá a deformação daquele corpo na direção $\\hat{x}$ na qual a força foi aplicada. \n",
    "\n",
    "\n",
    "Esse tipo de relação é linear. Assim, se fizermos o gráfico $F$ vs $x$ teremos uma reta com coeficiente angular (inclinação) igual a $k$.\n",
    "\n",
    "Para a barra do experimento, de comprimento $L$, largura $b$ e espessura $d$, temos\n",
    "\n",
    "$$ F = \\underbrace{\\left( E \\frac{d^3 b}{4L^3} \\right)}_{k} x,$$\n",
    "\n",
    "onde $E$ é o módulo de Young do material do qual a barra é constituída.\n",
    "\n",
    "\n",
    "A prática foi dividida em duas partes para estudarmos a deflexão $x$\n",
    "\n",
    "1) variando a força $F$ aplicada mantendo o comprimento $L$ fixo.\n",
    "\n",
    "2) variando o comprimento $L$ e mantendo a força $F$ fixa.\n",
    "\n",
    "\n",
    "\n",
    "Em ambas as partes, estudaremos a relação entre a deflexão $L$ e o parâmetro de controle ($F$ ou $L$) através de gráficos. Aprenderemos como encontrar o coeficiente linear $k$ a partir dos dados em escala linear e log-log. \n"
   ]
  },
  {
   "cell_type": "markdown",
   "id": "0d8e6962",
   "metadata": {},
   "source": [
    "## Bibliotecas Python para tabelas, gráficos e linearização"
   ]
  },
  {
   "cell_type": "code",
   "execution_count": 2,
   "id": "09d52cc2",
   "metadata": {},
   "outputs": [],
   "source": [
    "# biblioteca do python para tabelas e dados\n",
    "import pandas as pd\n",
    "\n",
    "# biblioteca do python de cálculo numérico e álgebra linear\n",
    "import numpy as np\n",
    "\n",
    "# biblioteca do python para algarismos significativos \n",
    "import sigfig\n",
    "\n",
    "# biblioteca do python para gráficos\n",
    "import matplotlib.pyplot as plt\n",
    "font = {\n",
    "        'weight' : 'bold',\n",
    "        'size'   : 16}\n",
    "plt.rc('text', usetex=True)\n",
    "plt.rc('text.latex', preamble=r'\\usepackage{amsmath}')\n",
    "plt.rc('font', **font)\n",
    "\n",
    "%matplotlib inline\n",
    "\n",
    "# biblioteca do python para análise de dados: regressão linear\n",
    "from scipy.optimize import curve_fit\n",
    "from sklearn.metrics import r2_score"
   ]
  },
  {
   "cell_type": "markdown",
   "id": "6f8b5e98",
   "metadata": {},
   "source": [
    "## Parte 1) Deformação em função da força aplicada\n",
    "\n",
    "Na primeira parte da prática, analisaremos como a deflexão $x$ se relaciona com a força $F$, mantendo o comprimento fixo.  Para a barra em questão, temos a seguinte relação\n",
    "\n",
    "$$ F = \\left( E \\frac{d^3 b}{4L^3} \\right) x,$$.\n",
    "\n",
    "\n"
   ]
  },
  {
   "cell_type": "markdown",
   "id": "4b3d193d",
   "metadata": {},
   "source": [
    "## Parte 2) Deformação em função da variação do comprimento\n",
    "\n",
    "\n",
    "Na segunda parte da prática, analisaremos como a deflexão $x$ se relaciona com $L$ com $F$ fixo. \n",
    "Lembremos que \n",
    "\n",
    "$$ F = \\left( E \\frac{d^3 b}{4L^3} \\right) x,$$\n",
    "\n",
    "então, para $F$ constante \n",
    "\n",
    "$$ x = \\underbrace{\\left( \\frac{4 F}{E d^3 b}\\right)}_{\\kappa} L^3$$\n",
    "\n",
    "Nesta parte da prática, estudaremos a dependência de $x$ vs $L$ de duas formas:\n",
    "\n",
    "### Graficando $Y = \\log(x)$ vs $Y = \\log(L)$ em uma escala log-log (papel log-log)\n",
    "\n",
    "Neste caso, temos\n",
    "\n",
    "$$ \n",
    "\\begin{align}\n",
    "\\log(x) & = \\log(\\kappa L^3) \\\\\n",
    "\\log(x) & = \\log(\\kappa) + \\log(L^3) \\\\\n",
    "Y  & = \\log(\\kappa) + 3 X \\\\\n",
    "\\end{align}\n",
    "$$\n",
    "\n",
    "A última passagem da equação nos mostra que em uma escala logarítimica, observaremos uma reta $Y = \\beta + \\alpha X$ com coeficiente angular $\\alpha = 3$ e linear $\\beta = \\log(\\kappa)$. \n",
    "\n",
    "No caso da escala log-log, faremos um ajuste linear aos pontos e gostaríamos de observar um coeficiente próximo de $\\alpha \\sim 3$ dentro dos erros. \n",
    "\n",
    "\n",
    "### Graficando $Y = x$ vs $X = L^3$ em uma escala linear (papel milimetrado)\n",
    "\n",
    "Neste caso, temos\n",
    "\n",
    "$$ \n",
    "\\begin{align}\n",
    "Y & = \\kappa X\n",
    "\\end{align}\n",
    "$$\n",
    "\n",
    "Aqui, a relação entre as variáveis $Y$ e $X$ é linear e $\\kappa = \\frac{4 F}{E d^3 b}$ é o coeficiente angular. \n",
    "\n",
    "No caso da escala linear, faremos um ajuste de uma reta aos pontos e vamos utilizar o valor de $\\kappa$ para determinar o módulo de Young do material. \n",
    "\n",
    "\n",
    "### Exemplos de como proceder com gráficos e ajustar a reta com Python\n",
    "\n",
    "Abaixo, ilustramos como graficar os resultados conforme pedido na prática e como obter os coeficientes angular e linear com seus respectivos erros. "
   ]
  },
  {
   "cell_type": "markdown",
   "id": "99e5e599",
   "metadata": {},
   "source": [
    "## Parte 1) Deformação em função da força aplicada\n",
    "\n",
    "Abaixo, vamos montar as tabelas e os gráficos referentes à primeira parte da prática."
   ]
  },
  {
   "cell_type": "code",
   "execution_count": 3,
   "id": "5bf5e411",
   "metadata": {},
   "outputs": [
    {
     "data": {
      "text/html": [
       "<div>\n",
       "<style scoped>\n",
       "    .dataframe tbody tr th:only-of-type {\n",
       "        vertical-align: middle;\n",
       "    }\n",
       "\n",
       "    .dataframe tbody tr th {\n",
       "        vertical-align: top;\n",
       "    }\n",
       "\n",
       "    .dataframe thead th {\n",
       "        text-align: right;\n",
       "    }\n",
       "</style>\n",
       "<table border=\"1\" class=\"dataframe\">\n",
       "  <thead>\n",
       "    <tr style=\"text-align: right;\">\n",
       "      <th></th>\n",
       "      <th>ID-Massa</th>\n",
       "      <th>$$m(\\pm0.01g)$$</th>\n",
       "      <th>$$x(\\pm0.1cm)$$</th>\n",
       "    </tr>\n",
       "  </thead>\n",
       "  <tbody>\n",
       "    <tr>\n",
       "      <th>0</th>\n",
       "      <td>S</td>\n",
       "      <td>56.35</td>\n",
       "      <td>0.9</td>\n",
       "    </tr>\n",
       "    <tr>\n",
       "      <th>1</th>\n",
       "      <td>U8</td>\n",
       "      <td>94.65</td>\n",
       "      <td>1.5</td>\n",
       "    </tr>\n",
       "    <tr>\n",
       "      <th>2</th>\n",
       "      <td>T5</td>\n",
       "      <td>141.15</td>\n",
       "      <td>2.3</td>\n",
       "    </tr>\n",
       "    <tr>\n",
       "      <th>3</th>\n",
       "      <td>T2</td>\n",
       "      <td>194.32</td>\n",
       "      <td>3.1</td>\n",
       "    </tr>\n",
       "    <tr>\n",
       "      <th>4</th>\n",
       "      <td>N6</td>\n",
       "      <td>238.87</td>\n",
       "      <td>3.8</td>\n",
       "    </tr>\n",
       "    <tr>\n",
       "      <th>5</th>\n",
       "      <td>F7</td>\n",
       "      <td>281.56</td>\n",
       "      <td>4.5</td>\n",
       "    </tr>\n",
       "    <tr>\n",
       "      <th>6</th>\n",
       "      <td>I7</td>\n",
       "      <td>324.08</td>\n",
       "      <td>5.0</td>\n",
       "    </tr>\n",
       "    <tr>\n",
       "      <th>7</th>\n",
       "      <td>F4</td>\n",
       "      <td>372.80</td>\n",
       "      <td>5.8</td>\n",
       "    </tr>\n",
       "  </tbody>\n",
       "</table>\n",
       "</div>"
      ],
      "text/plain": [
       "  ID-Massa  $$m(\\pm0.01g)$$  $$x(\\pm0.1cm)$$\n",
       "0        S            56.35              0.9\n",
       "1       U8            94.65              1.5\n",
       "2       T5           141.15              2.3\n",
       "3       T2           194.32              3.1\n",
       "4       N6           238.87              3.8\n",
       "5       F7           281.56              4.5\n",
       "6       I7           324.08              5.0\n",
       "7       F4           372.80              5.8"
      ]
     },
     "execution_count": 3,
     "metadata": {},
     "output_type": "execute_result"
    }
   ],
   "source": [
    "# lendo os dados e usando eles como tabela\n",
    "dados1 = pd.read_csv('dados_pratica2_tabela1.csv')\n",
    "dados1"
   ]
  },
  {
   "cell_type": "code",
   "execution_count": 4,
   "id": "63674d3b",
   "metadata": {},
   "outputs": [
    {
     "data": {
      "text/plain": [
       "Index(['ID-Massa', '$$m(\\pm0.01g)$$', '$$x(\\pm0.1cm)$$'], dtype='object')"
      ]
     },
     "execution_count": 4,
     "metadata": {},
     "output_type": "execute_result"
    }
   ],
   "source": [
    "dados1.keys()"
   ]
  },
  {
   "cell_type": "markdown",
   "id": "7e7ffe19",
   "metadata": {},
   "source": [
    "### Tabela deformação $x$ em função da força peso $F$"
   ]
  },
  {
   "cell_type": "code",
   "execution_count": 5,
   "id": "861c0ab2",
   "metadata": {},
   "outputs": [
    {
     "data": {
      "text/html": [
       "<div>\n",
       "<style scoped>\n",
       "    .dataframe tbody tr th:only-of-type {\n",
       "        vertical-align: middle;\n",
       "    }\n",
       "\n",
       "    .dataframe tbody tr th {\n",
       "        vertical-align: top;\n",
       "    }\n",
       "\n",
       "    .dataframe thead th {\n",
       "        text-align: right;\n",
       "    }\n",
       "</style>\n",
       "<table border=\"1\" class=\"dataframe\">\n",
       "  <thead>\n",
       "    <tr style=\"text-align: right;\">\n",
       "      <th></th>\n",
       "      <th>$$F(\\pm 0.0001N)$$</th>\n",
       "      <th>$$x(\\pm0.001m)$$</th>\n",
       "    </tr>\n",
       "  </thead>\n",
       "  <tbody>\n",
       "    <tr>\n",
       "      <th>0</th>\n",
       "      <td>0.5528</td>\n",
       "      <td>0.009</td>\n",
       "    </tr>\n",
       "    <tr>\n",
       "      <th>1</th>\n",
       "      <td>0.9285</td>\n",
       "      <td>0.015</td>\n",
       "    </tr>\n",
       "    <tr>\n",
       "      <th>2</th>\n",
       "      <td>1.3847</td>\n",
       "      <td>0.023</td>\n",
       "    </tr>\n",
       "    <tr>\n",
       "      <th>3</th>\n",
       "      <td>1.9063</td>\n",
       "      <td>0.031</td>\n",
       "    </tr>\n",
       "    <tr>\n",
       "      <th>4</th>\n",
       "      <td>2.3433</td>\n",
       "      <td>0.038</td>\n",
       "    </tr>\n",
       "    <tr>\n",
       "      <th>5</th>\n",
       "      <td>2.7621</td>\n",
       "      <td>0.045</td>\n",
       "    </tr>\n",
       "    <tr>\n",
       "      <th>6</th>\n",
       "      <td>3.1792</td>\n",
       "      <td>0.050</td>\n",
       "    </tr>\n",
       "    <tr>\n",
       "      <th>7</th>\n",
       "      <td>3.6572</td>\n",
       "      <td>0.058</td>\n",
       "    </tr>\n",
       "  </tbody>\n",
       "</table>\n",
       "</div>"
      ],
      "text/plain": [
       "   $$F(\\pm 0.0001N)$$  $$x(\\pm0.001m)$$\n",
       "0              0.5528             0.009\n",
       "1              0.9285             0.015\n",
       "2              1.3847             0.023\n",
       "3              1.9063             0.031\n",
       "4              2.3433             0.038\n",
       "5              2.7621             0.045\n",
       "6              3.1792             0.050\n",
       "7              3.6572             0.058"
      ]
     },
     "execution_count": 5,
     "metadata": {},
     "output_type": "execute_result"
    }
   ],
   "source": [
    "# g=9.81 m/s^2, aceleracao (SI)\n",
    "g=9.81\n",
    "\n",
    "tabela1 = pd.DataFrame()\n",
    "# Força em N\n",
    "tabela1['$$F(\\pm 0.0001N)$$'] = dados1['$$m(\\pm0.01g)$$']*1e-3*g\n",
    "\n",
    "# os dados não estão truncados seguindo o mesmo número de casas do erro (que é de 1e-4)\n",
    "tabela1['$$F(\\pm 0.0001N)$$'] = tabela1['$$F(\\pm 0.0001N)$$'].round(4)\n",
    "\n",
    "\n",
    "# convertendo o x de cm para m (SI)\n",
    "tabela1['$$x(\\pm0.001m)$$'] = dados1['$$x(\\pm0.1cm)$$']*1e-2\n",
    "tabela1"
   ]
  },
  {
   "cell_type": "markdown",
   "id": "310259a2",
   "metadata": {},
   "source": [
    "### Gráficos\n",
    "\n",
    "Agora vamos fazer o gráfico de $F$ vs $x$\n"
   ]
  },
  {
   "cell_type": "code",
   "execution_count": 6,
   "id": "3ac0d487",
   "metadata": {},
   "outputs": [
    {
     "name": "stderr",
     "output_type": "stream",
     "text": [
      "warning: kpathsea: /usr/local/texlive/texmf-local/ls-R: No usable entries in ls-R.\n",
      "warning: kpathsea: See the manual for how to generate ls-R.\n"
     ]
    },
    {
     "data": {
      "image/png": "[encoded data removed]",
      "text/plain": [
       "<Figure size 700x500 with 1 Axes>"
      ]
     },
     "metadata": {},
     "output_type": "display_data"
    }
   ],
   "source": [
    "x = tabela1[['$$x(\\pm0.001m)$$']].values.reshape(-1)\n",
    "F = tabela1[['$$F(\\pm 0.0001N)$$']].values.reshape(-1)\n",
    "\n",
    "\n",
    "# figura\n",
    "fig1, ax1 = plt.subplots(1,1, figsize=(7,5))\n",
    "ax1.plot(x / 1e-2,F, 'ko')\n",
    "ax1.set_xlabel(r'$x(\\pm0.001 m) \\times 10^{-2}$')\n",
    "ax1.set_ylabel(r'$F(\\pm0.0001N)$')\n",
    "ax1.set_xticks(np.arange(0, 7, 1))\n",
    "ax1.set_yticks(np.arange(0,5,1))\n",
    "ax1.set_xlim(0,7)\n",
    "ax1.set_yticks(np.linspace(0,4,41), minor=True)\n",
    "ax1.set_xticks(np.linspace(0,7,71), minor=True)\n",
    "\n",
    "ax1.grid(which='major', color='gray', linestyle='-', alpha=1, lw=0.45)\n",
    "ax1.grid(which='minor', color='r', linestyle='-', alpha=0.5, lw=0.25)"
   ]
  },
  {
   "cell_type": "markdown",
   "id": "fffd3949",
   "metadata": {},
   "source": [
    "### Ajuste linear\n",
    "\n",
    "Agora, vamos fazer um ajuste linear para encontrar o coeficiente angular $k$ tal que \n",
    "\n",
    "$$F = k x$$.\n",
    "\n",
    "\n",
    "Veja que poderíamos ter uma constante $F_0$ no caso de se para $x=0$ o $F$ não precisar ser 0, então uma forma mais refinada no modelo seria\n",
    "\n",
    "$$ F = k x + F_0$$\n"
   ]
  },
  {
   "cell_type": "code",
   "execution_count": 7,
   "id": "3e6b0005",
   "metadata": {},
   "outputs": [
    {
     "name": "stdout",
     "output_type": "stream",
     "text": [
      " R-quadrado (o que nos diz quão bom é o nosso modelo): 0.9990102555578675\n",
      "\n",
      " F = kx + F0 ->63.4644523699986x + -0.04472970393723222 N \n",
      "\n",
      " k = 63.4644523699986 +- 0.81511043970271 N/m \n",
      "\n",
      " F0 = -0.04472970393723222 +- 0.03040181914482748 N \n",
      "\n",
      " OBS: Note que os coeficientes não foram arredondados conforme seu erro! \n",
      " \n"
     ]
    }
   ],
   "source": [
    "# modelo\n",
    "def model_Fkx(x,k, F0):\n",
    "    return k*x + F0\n",
    "\n",
    "\n",
    "\n",
    "# agora, usando a função curve_fit, calcularemos os coeficientes e seus erros\n",
    "coefs_lin, cov_lin = curve_fit(model_Fkx, x, F)\n",
    "coefs_err = np.sqrt(np.diag(cov_lin))\n",
    "\n",
    "k = coefs_lin[0]\n",
    "F0 = coefs_lin[1]\n",
    "Ffit = k * x + F0\n",
    "\n",
    "k_err = coefs_err[0]\n",
    "F0_err = coefs_err[1]\n",
    "\n",
    "# fitting y = ax + b\n",
    "r2 = r2_score(Ffit, F)\n",
    "print(f\" R-quadrado (o que nos diz quão bom é o nosso modelo): {r2}\\n\")\n",
    "\n",
    "print(f\" F = kx + F0 ->{k}x + {F0} N \\n\")\n",
    "print(f\" k = {k} +- {k_err} N/m \\n\")\n",
    "print(f\" F0 = {F0} +- {F0_err} N \\n\")\n",
    "print(f\" OBS: Note que os coeficientes não foram arredondados conforme seu erro! \\n \")\n"
   ]
  },
  {
   "cell_type": "markdown",
   "id": "09542fb6",
   "metadata": {},
   "source": [
    "Agora vamos arredondar esses coeficientes considerando apenas um algarismo significativo\n"
   ]
  },
  {
   "cell_type": "code",
   "execution_count": 8,
   "id": "ca2e4d93",
   "metadata": {},
   "outputs": [
    {
     "name": "stdout",
     "output_type": "stream",
     "text": [
      "k = 6.35E1 +- 0.08E1 N/m\n",
      "F0 = -4E-2 +- 3E-2 N\n"
     ]
    }
   ],
   "source": [
    "# algarismos significativos\n",
    "\n",
    "k1s = sigfig.round(k_err, sigfigs=1)\n",
    "F01s = sigfig.round(F0_err, sigfigs=1)\n",
    "\n",
    "k1s = sigfig.round(str(k), str(k1s), notation='scientific', sep=tuple)\n",
    "F01s = sigfig.round(str(F0), str(F01s), notation='scientific', sep=tuple)\n",
    "\n",
    "print(f'k = {k1s[0]} +- {k1s[1]} N/m')\n",
    "print(f'F0 = {F01s[0]} +- {F01s[1]} N')"
   ]
  },
  {
   "cell_type": "markdown",
   "id": "45584d41",
   "metadata": {},
   "source": [
    "Agora re-plotamos nossos dados com o modelo\n"
   ]
  },
  {
   "cell_type": "code",
   "execution_count": 9,
   "id": "f360f746",
   "metadata": {},
   "outputs": [
    {
     "data": {
      "image/png": "[encoded data removed]",
      "text/plain": [
       "<Figure size 700x500 with 1 Axes>"
      ]
     },
     "metadata": {},
     "output_type": "display_data"
    }
   ],
   "source": [
    "# graficando os pontos juntamente com o modelo\n",
    "\n",
    "fig1lr, ax1lr = plt.subplots(1,1, figsize=(7,5))\n",
    "\n",
    "ax1lr.plot(x / 1e-2, F, 'ko', label='dados')\n",
    "\n",
    "xnew = np.linspace(0, 0.065, 51)\n",
    "ax1lr.plot(xnew / 1e-2, xnew * k + F0, 'b-', label=r'fit $F = k x + F_0$')\n",
    "\n",
    "ax1lr.set_xlabel(r'$x (\\pm0.001m) \\times 10^{-2}$')\n",
    "ax1lr.set_ylabel(r'$F(\\pm0.001 N)$')\n",
    "ax1lr.set_xticks(np.arange(0, 7, 1))\n",
    "ax1lr.set_yticks(np.arange(0,5,1))\n",
    "\n",
    "ax1lr.set_xlim(0,7)\n",
    "ax1lr.set_ylim(0,4)\n",
    "ax1lr.set_yticks(np.linspace(0,4,41), minor=True)\n",
    "ax1lr.set_xticks(np.linspace(0,7,71), minor=True)\n",
    "\n",
    "\n",
    "ax1lr.grid(which='major', color='gray', linestyle='-', alpha=1, lw=0.45)\n",
    "ax1lr.grid(which='minor', color='r', linestyle='-', alpha=0.5, lw=0.25)\n",
    "\n",
    "\n",
    "ax1lr.text(0.95, 0.05, rf\"$k=({k1s[0]} \\pm {k1s[1]}) N/m$ \\\\ $F_0=({F01s[0]} \\pm {F01s[1]}) N$\".format(100, 20), transform=ax1lr.transAxes, ha='right', va='bottom', ma='right', bbox=dict(boxstyle=\"square\",ec='k',fc='w',))\n",
    "\n",
    "\n",
    "leg1lr = ax1lr.legend()\n",
    "\n"
   ]
  },
  {
   "cell_type": "markdown",
   "id": "a2debacd",
   "metadata": {},
   "source": [
    "## Parte 2) Deformação em função do comprimento\n",
    "\n",
    "Abaixo, vamos montar as tabelas e os gráficos referentes à segunda parte da prática."
   ]
  },
  {
   "cell_type": "code",
   "execution_count": 10,
   "id": "2fcc776c",
   "metadata": {},
   "outputs": [
    {
     "data": {
      "text/html": [
       "<div>\n",
       "<style scoped>\n",
       "    .dataframe tbody tr th:only-of-type {\n",
       "        vertical-align: middle;\n",
       "    }\n",
       "\n",
       "    .dataframe tbody tr th {\n",
       "        vertical-align: top;\n",
       "    }\n",
       "\n",
       "    .dataframe thead th {\n",
       "        text-align: right;\n",
       "    }\n",
       "</style>\n",
       "<table border=\"1\" class=\"dataframe\">\n",
       "  <thead>\n",
       "    <tr style=\"text-align: right;\">\n",
       "      <th></th>\n",
       "      <th>$$L(\\pm0.1cm)$$</th>\n",
       "      <th>$$x(\\pm0.1cm)$$</th>\n",
       "    </tr>\n",
       "  </thead>\n",
       "  <tbody>\n",
       "    <tr>\n",
       "      <th>0</th>\n",
       "      <td>27.0</td>\n",
       "      <td>5.6</td>\n",
       "    </tr>\n",
       "    <tr>\n",
       "      <th>1</th>\n",
       "      <td>25.0</td>\n",
       "      <td>4.5</td>\n",
       "    </tr>\n",
       "    <tr>\n",
       "      <th>2</th>\n",
       "      <td>23.0</td>\n",
       "      <td>3.7</td>\n",
       "    </tr>\n",
       "    <tr>\n",
       "      <th>3</th>\n",
       "      <td>21.0</td>\n",
       "      <td>2.8</td>\n",
       "    </tr>\n",
       "    <tr>\n",
       "      <th>4</th>\n",
       "      <td>19.0</td>\n",
       "      <td>2.1</td>\n",
       "    </tr>\n",
       "    <tr>\n",
       "      <th>5</th>\n",
       "      <td>17.0</td>\n",
       "      <td>1.7</td>\n",
       "    </tr>\n",
       "    <tr>\n",
       "      <th>6</th>\n",
       "      <td>15.0</td>\n",
       "      <td>1.2</td>\n",
       "    </tr>\n",
       "    <tr>\n",
       "      <th>7</th>\n",
       "      <td>13.0</td>\n",
       "      <td>0.7</td>\n",
       "    </tr>\n",
       "    <tr>\n",
       "      <th>8</th>\n",
       "      <td>11.0</td>\n",
       "      <td>0.5</td>\n",
       "    </tr>\n",
       "    <tr>\n",
       "      <th>9</th>\n",
       "      <td>9.0</td>\n",
       "      <td>0.2</td>\n",
       "    </tr>\n",
       "    <tr>\n",
       "      <th>10</th>\n",
       "      <td>7.0</td>\n",
       "      <td>0.1</td>\n",
       "    </tr>\n",
       "  </tbody>\n",
       "</table>\n",
       "</div>"
      ],
      "text/plain": [
       "    $$L(\\pm0.1cm)$$  $$x(\\pm0.1cm)$$\n",
       "0              27.0              5.6\n",
       "1              25.0              4.5\n",
       "2              23.0              3.7\n",
       "3              21.0              2.8\n",
       "4              19.0              2.1\n",
       "5              17.0              1.7\n",
       "6              15.0              1.2\n",
       "7              13.0              0.7\n",
       "8              11.0              0.5\n",
       "9               9.0              0.2\n",
       "10              7.0              0.1"
      ]
     },
     "execution_count": 10,
     "metadata": {},
     "output_type": "execute_result"
    }
   ],
   "source": [
    "# lendo os dados e usando eles como tabela\n",
    "tabela2 = pd.read_csv('dados_pratica2_tabela2.csv')\n",
    "tabela2"
   ]
  },
  {
   "cell_type": "code",
   "execution_count": 11,
   "id": "a1bda902",
   "metadata": {},
   "outputs": [
    {
     "data": {
      "text/plain": [
       "Index(['$$L(\\pm0.1cm)$$', '$$x(\\pm0.1cm)$$'], dtype='object')"
      ]
     },
     "execution_count": 11,
     "metadata": {},
     "output_type": "execute_result"
    }
   ],
   "source": [
    "tabela2.keys()"
   ]
  },
  {
   "cell_type": "code",
   "execution_count": 12,
   "id": "25da1137",
   "metadata": {},
   "outputs": [],
   "source": [
    "# elevando a potência 3\n",
    "tabela2['$$L^3(cm)$$'] = tabela2.apply(lambda row: row['$$L(\\pm0.1cm)$$']**3, axis=1)\n",
    "\n",
    "# calculando o erro L^3 -> 3 L^2 Delta L\n",
    "# aqui já vamos usar o número certo de algarismos significativos\n",
    "tabela2['$$\\Delta L^3(cm)$$'] = tabela2.apply(lambda row: 3*row['$$L(\\pm0.1cm)$$']**2*0.1, axis=1)"
   ]
  },
  {
   "cell_type": "code",
   "execution_count": 13,
   "id": "3869cc96",
   "metadata": {},
   "outputs": [
    {
     "data": {
      "text/html": [
       "<div>\n",
       "<style scoped>\n",
       "    .dataframe tbody tr th:only-of-type {\n",
       "        vertical-align: middle;\n",
       "    }\n",
       "\n",
       "    .dataframe tbody tr th {\n",
       "        vertical-align: top;\n",
       "    }\n",
       "\n",
       "    .dataframe thead th {\n",
       "        text-align: right;\n",
       "    }\n",
       "</style>\n",
       "<table border=\"1\" class=\"dataframe\">\n",
       "  <thead>\n",
       "    <tr style=\"text-align: right;\">\n",
       "      <th></th>\n",
       "      <th>$$L(\\pm0.1cm)$$</th>\n",
       "      <th>$$x(\\pm0.1cm)$$</th>\n",
       "      <th>$$L^3(cm)$$</th>\n",
       "      <th>$$\\Delta L^3(cm)$$</th>\n",
       "    </tr>\n",
       "  </thead>\n",
       "  <tbody>\n",
       "    <tr>\n",
       "      <th>0</th>\n",
       "      <td>27.0</td>\n",
       "      <td>5.6</td>\n",
       "      <td>19683.0</td>\n",
       "      <td>218.7</td>\n",
       "    </tr>\n",
       "    <tr>\n",
       "      <th>1</th>\n",
       "      <td>25.0</td>\n",
       "      <td>4.5</td>\n",
       "      <td>15625.0</td>\n",
       "      <td>187.5</td>\n",
       "    </tr>\n",
       "    <tr>\n",
       "      <th>2</th>\n",
       "      <td>23.0</td>\n",
       "      <td>3.7</td>\n",
       "      <td>12167.0</td>\n",
       "      <td>158.7</td>\n",
       "    </tr>\n",
       "    <tr>\n",
       "      <th>3</th>\n",
       "      <td>21.0</td>\n",
       "      <td>2.8</td>\n",
       "      <td>9261.0</td>\n",
       "      <td>132.3</td>\n",
       "    </tr>\n",
       "    <tr>\n",
       "      <th>4</th>\n",
       "      <td>19.0</td>\n",
       "      <td>2.1</td>\n",
       "      <td>6859.0</td>\n",
       "      <td>108.3</td>\n",
       "    </tr>\n",
       "    <tr>\n",
       "      <th>5</th>\n",
       "      <td>17.0</td>\n",
       "      <td>1.7</td>\n",
       "      <td>4913.0</td>\n",
       "      <td>86.7</td>\n",
       "    </tr>\n",
       "    <tr>\n",
       "      <th>6</th>\n",
       "      <td>15.0</td>\n",
       "      <td>1.2</td>\n",
       "      <td>3375.0</td>\n",
       "      <td>67.5</td>\n",
       "    </tr>\n",
       "    <tr>\n",
       "      <th>7</th>\n",
       "      <td>13.0</td>\n",
       "      <td>0.7</td>\n",
       "      <td>2197.0</td>\n",
       "      <td>50.7</td>\n",
       "    </tr>\n",
       "    <tr>\n",
       "      <th>8</th>\n",
       "      <td>11.0</td>\n",
       "      <td>0.5</td>\n",
       "      <td>1331.0</td>\n",
       "      <td>36.3</td>\n",
       "    </tr>\n",
       "    <tr>\n",
       "      <th>9</th>\n",
       "      <td>9.0</td>\n",
       "      <td>0.2</td>\n",
       "      <td>729.0</td>\n",
       "      <td>24.3</td>\n",
       "    </tr>\n",
       "    <tr>\n",
       "      <th>10</th>\n",
       "      <td>7.0</td>\n",
       "      <td>0.1</td>\n",
       "      <td>343.0</td>\n",
       "      <td>14.7</td>\n",
       "    </tr>\n",
       "  </tbody>\n",
       "</table>\n",
       "</div>"
      ],
      "text/plain": [
       "    $$L(\\pm0.1cm)$$  $$x(\\pm0.1cm)$$  $$L^3(cm)$$  $$\\Delta L^3(cm)$$\n",
       "0              27.0              5.6      19683.0               218.7\n",
       "1              25.0              4.5      15625.0               187.5\n",
       "2              23.0              3.7      12167.0               158.7\n",
       "3              21.0              2.8       9261.0               132.3\n",
       "4              19.0              2.1       6859.0               108.3\n",
       "5              17.0              1.7       4913.0                86.7\n",
       "6              15.0              1.2       3375.0                67.5\n",
       "7              13.0              0.7       2197.0                50.7\n",
       "8              11.0              0.5       1331.0                36.3\n",
       "9               9.0              0.2        729.0                24.3\n",
       "10              7.0              0.1        343.0                14.7"
      ]
     },
     "execution_count": 13,
     "metadata": {},
     "output_type": "execute_result"
    }
   ],
   "source": [
    "# tabela com os valores\n",
    "tabela2"
   ]
  },
  {
   "cell_type": "markdown",
   "id": "7cc1a50e",
   "metadata": {},
   "source": [
    "### Tabela com valores $L$, $x$ e $L^3$ com erro propagado"
   ]
  },
  {
   "cell_type": "code",
   "execution_count": 14,
   "id": "89c85ad6",
   "metadata": {},
   "outputs": [
    {
     "data": {
      "text/html": [
       "<div>\n",
       "<style scoped>\n",
       "    .dataframe tbody tr th:only-of-type {\n",
       "        vertical-align: middle;\n",
       "    }\n",
       "\n",
       "    .dataframe tbody tr th {\n",
       "        vertical-align: top;\n",
       "    }\n",
       "\n",
       "    .dataframe thead th {\n",
       "        text-align: right;\n",
       "    }\n",
       "</style>\n",
       "<table border=\"1\" class=\"dataframe\">\n",
       "  <thead>\n",
       "    <tr style=\"text-align: right;\">\n",
       "      <th></th>\n",
       "      <th>$$L(\\pm0.1cm)$$</th>\n",
       "      <th>$$x(\\pm0.1cm)$$</th>\n",
       "      <th>$$L^3(cm)$$</th>\n",
       "      <th>$$\\Delta L^3(cm)$$</th>\n",
       "      <th>$$\\Delta L^3(cm^3)$$</th>\n",
       "      <th>$$L^3(cm^3)$$</th>\n",
       "    </tr>\n",
       "  </thead>\n",
       "  <tbody>\n",
       "    <tr>\n",
       "      <th>0</th>\n",
       "      <td>27.0</td>\n",
       "      <td>5.6</td>\n",
       "      <td>19683.0</td>\n",
       "      <td>218.7</td>\n",
       "      <td>200</td>\n",
       "      <td>19700</td>\n",
       "    </tr>\n",
       "    <tr>\n",
       "      <th>1</th>\n",
       "      <td>25.0</td>\n",
       "      <td>4.5</td>\n",
       "      <td>15625.0</td>\n",
       "      <td>187.5</td>\n",
       "      <td>200</td>\n",
       "      <td>15600</td>\n",
       "    </tr>\n",
       "    <tr>\n",
       "      <th>2</th>\n",
       "      <td>23.0</td>\n",
       "      <td>3.7</td>\n",
       "      <td>12167.0</td>\n",
       "      <td>158.7</td>\n",
       "      <td>200</td>\n",
       "      <td>12200</td>\n",
       "    </tr>\n",
       "    <tr>\n",
       "      <th>3</th>\n",
       "      <td>21.0</td>\n",
       "      <td>2.8</td>\n",
       "      <td>9261.0</td>\n",
       "      <td>132.3</td>\n",
       "      <td>100</td>\n",
       "      <td>9300</td>\n",
       "    </tr>\n",
       "    <tr>\n",
       "      <th>4</th>\n",
       "      <td>19.0</td>\n",
       "      <td>2.1</td>\n",
       "      <td>6859.0</td>\n",
       "      <td>108.3</td>\n",
       "      <td>100</td>\n",
       "      <td>6900</td>\n",
       "    </tr>\n",
       "    <tr>\n",
       "      <th>5</th>\n",
       "      <td>17.0</td>\n",
       "      <td>1.7</td>\n",
       "      <td>4913.0</td>\n",
       "      <td>86.7</td>\n",
       "      <td>90</td>\n",
       "      <td>4910</td>\n",
       "    </tr>\n",
       "    <tr>\n",
       "      <th>6</th>\n",
       "      <td>15.0</td>\n",
       "      <td>1.2</td>\n",
       "      <td>3375.0</td>\n",
       "      <td>67.5</td>\n",
       "      <td>70</td>\n",
       "      <td>3380</td>\n",
       "    </tr>\n",
       "    <tr>\n",
       "      <th>7</th>\n",
       "      <td>13.0</td>\n",
       "      <td>0.7</td>\n",
       "      <td>2197.0</td>\n",
       "      <td>50.7</td>\n",
       "      <td>50</td>\n",
       "      <td>2200</td>\n",
       "    </tr>\n",
       "    <tr>\n",
       "      <th>8</th>\n",
       "      <td>11.0</td>\n",
       "      <td>0.5</td>\n",
       "      <td>1331.0</td>\n",
       "      <td>36.3</td>\n",
       "      <td>40</td>\n",
       "      <td>1330</td>\n",
       "    </tr>\n",
       "    <tr>\n",
       "      <th>9</th>\n",
       "      <td>9.0</td>\n",
       "      <td>0.2</td>\n",
       "      <td>729.0</td>\n",
       "      <td>24.3</td>\n",
       "      <td>20</td>\n",
       "      <td>730</td>\n",
       "    </tr>\n",
       "    <tr>\n",
       "      <th>10</th>\n",
       "      <td>7.0</td>\n",
       "      <td>0.1</td>\n",
       "      <td>343.0</td>\n",
       "      <td>14.7</td>\n",
       "      <td>10</td>\n",
       "      <td>340</td>\n",
       "    </tr>\n",
       "  </tbody>\n",
       "</table>\n",
       "</div>"
      ],
      "text/plain": [
       "    $$L(\\pm0.1cm)$$  $$x(\\pm0.1cm)$$  $$L^3(cm)$$  $$\\Delta L^3(cm)$$  \\\n",
       "0              27.0              5.6      19683.0               218.7   \n",
       "1              25.0              4.5      15625.0               187.5   \n",
       "2              23.0              3.7      12167.0               158.7   \n",
       "3              21.0              2.8       9261.0               132.3   \n",
       "4              19.0              2.1       6859.0               108.3   \n",
       "5              17.0              1.7       4913.0                86.7   \n",
       "6              15.0              1.2       3375.0                67.5   \n",
       "7              13.0              0.7       2197.0                50.7   \n",
       "8              11.0              0.5       1331.0                36.3   \n",
       "9               9.0              0.2        729.0                24.3   \n",
       "10              7.0              0.1        343.0                14.7   \n",
       "\n",
       "   $$\\Delta L^3(cm^3)$$ $$L^3(cm^3)$$  \n",
       "0                   200         19700  \n",
       "1                   200         15600  \n",
       "2                   200         12200  \n",
       "3                   100          9300  \n",
       "4                   100          6900  \n",
       "5                    90          4910  \n",
       "6                    70          3380  \n",
       "7                    50          2200  \n",
       "8                    40          1330  \n",
       "9                    20           730  \n",
       "10                   10           340  "
      ]
     },
     "execution_count": 14,
     "metadata": {},
     "output_type": "execute_result"
    }
   ],
   "source": [
    "# arredondando os valores de L^3 e seu erro\n",
    "\n",
    "L3_rounded = []\n",
    "DL3_rounded = []\n",
    "for l3, el3 in zip(tabela2['$$L^3(cm)$$'], tabela2['$$\\Delta L^3(cm)$$']):\n",
    "    xdx = sigfig.round(str(l3), str(el3),sep='tuple')\n",
    "    L3_rounded.append( xdx[0] )\n",
    "    DL3_rounded.append( xdx[1] )\n",
    "\n",
    "tabela2['$$\\Delta L^3(cm^3)$$'] = DL3_rounded\n",
    "tabela2['$$L^3(cm^3)$$'] = L3_rounded\n",
    "\n",
    "# nova tabela arredondada\n",
    "tabela2"
   ]
  },
  {
   "cell_type": "markdown",
   "id": "0a93d161",
   "metadata": {},
   "source": [
    "Agora vamos plotar o resultado. Primeiro, $x$ vs $L$ e depois $x$ vs $L^3$\n",
    "\n"
   ]
  },
  {
   "cell_type": "markdown",
   "id": "3900a043",
   "metadata": {},
   "source": [
    "### Gráficos\n",
    "\n",
    "Agora vamos fazer os gráficos de $x$ vs $L$ em ecala linear, $x$ vs $L^3$ em escala linear e $x$ vs $L$ em escala log-log. "
   ]
  },
  {
   "cell_type": "code",
   "execution_count": 22,
   "id": "f354a7ae",
   "metadata": {},
   "outputs": [
    {
     "data": {
      "image/png": "[encoded data removed]",
      "text/plain": [
       "<Figure size 1300x450 with 3 Axes>"
      ]
     },
     "metadata": {},
     "output_type": "display_data"
    }
   ],
   "source": [
    "x = tabela2[['$$x(\\pm0.1cm)$$']].values.reshape(-1)\n",
    "L = tabela2[['$$L(\\pm0.1cm)$$']].values.reshape(-1)\n",
    "L3 = tabela2[['$$L^3(cm^3)$$']].values.reshape(-1).astype(float)\n",
    "DL3 = tabela2[['$$\\Delta L^3(cm^3)$$']].values.reshape(-1).astype(float)\n",
    "\n",
    "# criamos a figura com 1 linha e 3 colunas com eixos correspondentes\n",
    "fig, ax = plt.subplots(1,3, figsize=(13,4.5))\n",
    "\n",
    "\n",
    "# x vs L escala linear\n",
    "ax[0].plot(L,x, 'ko')\n",
    "ax[0].set_ylabel(r'$x(\\pm0.1 cm)$')\n",
    "ax[0].set_xlabel(r'$L(\\pm0.1 cm)$')\n",
    "ax[0].grid()\n",
    "ax[0].set_xticks(np.arange(5,35,5))\n",
    "ax[0].set_yticks(np.arange(0,7,1))\n",
    "ax[0].set_ylim(-0.0,6.0)\n",
    "ax[0].set_title(r'(a)')\n",
    "\n",
    "ax[0].grid(which='major', color='gray', linestyle='-', alpha=1, lw=0.45)\n",
    "ax[0].grid(which='minor', color='r', linestyle='-', alpha=0.5, lw=0.25)\n",
    "\n",
    "\n",
    "# x vs L^3 em escala linear\n",
    "ax[1].plot(L3,x, 'ks')\n",
    "ax[1].set_ylabel(r'$x(\\pm0.1cm)$')\n",
    "ax[1].set_xlabel(r'$L^3(\\pm0.001cm^3) \\times 10^4$')\n",
    "ax[1].grid()\n",
    "ax[1].set_ylim(-0.0,6.0)\n",
    "ax[1].set_xlim(-500,20500)\n",
    "ax[1].set_xticks(np.arange(0,2.5,0.5)*1e4)\n",
    "ax[1].set_xticklabels([rf\"${x}$\" for x in np.arange(0,2.5,0.5)])\n",
    "\n",
    "ax[1].set_title(r'(b)')\n",
    "\n",
    "\n",
    "# x vs L em escala log-log\n",
    "ax[2].set_xscale('log')\n",
    "ax[2].set_yscale('log')\n",
    "ax[2].plot(L,x, 'ko')\n",
    "ax[2].set_xlim(1e-0,1e2)\n",
    "ax[2].set_ylim(1e-1,1e1)\n",
    "plt.grid(visible=True, which='both', color='0.65', linestyle='-')\n",
    "ax[2].set_ylabel(r'$x(\\pm0.1 cm)$', labelpad=-0.15)\n",
    "ax[2].set_xlabel(r'$L(\\pm0.1 cm)$')\n",
    "ax[2].set_title(r'(c)')\n",
    "\n",
    "\n",
    "fig.subplots_adjust(wspace=0.3, hspace=0.1)"
   ]
  },
  {
   "cell_type": "markdown",
   "id": "cd0cf5f5",
   "metadata": {},
   "source": [
    "### Discussão \n",
    "\n",
    "Note que o comportamento no primeiro caso (a) não é linear, enquanto que no segundo (b) e terceiro (c) ele é!\n",
    "\n"
   ]
  },
  {
   "cell_type": "markdown",
   "id": "a7c9f54a",
   "metadata": {},
   "source": [
    "### Ajuste linear\n",
    "\n",
    "Agora, vamos fazer um ajuste linear para encontrar os coeficientes angulares dos casos (b) e (c).\n",
    "\n",
    "Começando com o caso (b). \n",
    "\n",
    "Nosso modelo é\n",
    "\n",
    "$$ Y = \\alpha X^3 + \\beta$$\n",
    "\n",
    "Vamos encontrar quem é o coeficiente angular $\\alpha$."
   ]
  },
  {
   "cell_type": "code",
   "execution_count": 18,
   "id": "3701d84a",
   "metadata": {},
   "outputs": [
    {
     "name": "stdout",
     "output_type": "stream",
     "text": [
      " R-quadrado (o que nos diz quão bom é o nosso modelo): 0.9966287012652858\n",
      "\n",
      " y = ax + b ->0.0002835655767417317x + 0.1283685433507732 \n",
      "\n",
      " a = 0.0002835655767417317 +- 5.488212021925599e-06 cm^-2\n",
      "\n",
      " b = 0.1283685433507732 +- 0.05114205914433377 cm \n",
      "\n",
      " OBS: Note que os coeficientes não foram arredondados conforme seu erro! \n",
      " \n"
     ]
    }
   ],
   "source": [
    "# criamos um modelo de regressão linear relacionando x com L\n",
    "def model_x_vs_L3(x, a, b):\n",
    "    return a * x**3 + b\n",
    "\n",
    "# agora, usando a função curve_fit, calcularemos os coeficientes e seus erros\n",
    "coefs_lin, cov_lin = curve_fit(model_x_vs_L3, L, x)\n",
    "coefs_err = np.sqrt(np.diag(cov_lin))\n",
    "\n",
    "a = coefs_lin[0]\n",
    "b = coefs_lin[1]\n",
    "xfit = a * L**3 + b\n",
    "\n",
    "a_err = coefs_err[0]\n",
    "b_err = coefs_err[1]\n",
    "\n",
    "# fitting y = ax + b\n",
    "r2 = r2_score(xfit, x)\n",
    "print(f\" R-quadrado (o que nos diz quão bom é o nosso modelo): {r2}\\n\")\n",
    "\n",
    "print(f\" y = ax + b ->{a}x + {b} \\n\")\n",
    "print(f\" a = {a} +- {a_err} cm^{-2}\\n\")\n",
    "print(f\" b = {b} +- {b_err} cm \\n\")\n",
    "print(f\" OBS: Note que os coeficientes não foram arredondados conforme seu erro! \\n \")\n",
    "\n"
   ]
  },
  {
   "cell_type": "markdown",
   "id": "3e96948a",
   "metadata": {},
   "source": [
    "Vamos arrendondar nossos coeficientes usando 1 algarismo significativo para seus erros "
   ]
  },
  {
   "cell_type": "code",
   "execution_count": null,
   "id": "cecaed50",
   "metadata": {},
   "outputs": [],
   "source": []
  },
  {
   "cell_type": "code",
   "execution_count": 19,
   "id": "fbfbd927",
   "metadata": {},
   "outputs": [
    {
     "name": "stdout",
     "output_type": "stream",
     "text": [
      "a = 2.84E-4 +- 0.05E-4 cm^-2\n",
      "b = 1.3E-1 +- 0.5E-1 cm\n"
     ]
    }
   ],
   "source": [
    "# algarismos significativos\n",
    "\n",
    "ae1s = sigfig.round(a_err, sigfigs=1)\n",
    "be1s = sigfig.round(b_err, sigfigs=1)\n",
    "\n",
    "a1s = sigfig.round(str(a), str(ae1s), notation='scientific', sep=tuple)\n",
    "b1s = sigfig.round(str(b), str(be1s), notation='scientific', sep=tuple)\n",
    "\n",
    "print(f'a = {a1s[0]} +- {a1s[1]} cm^-2')\n",
    "print(f'b = {b1s[0]} +- {b1s[1]} cm')\n",
    "\n"
   ]
  },
  {
   "cell_type": "markdown",
   "id": "96f2bb9a",
   "metadata": {},
   "source": [
    "Agora vamos graficar os os dados $x$ vs $L^3$ com o modelo linear"
   ]
  },
  {
   "cell_type": "code",
   "execution_count": 21,
   "id": "1004571e",
   "metadata": {},
   "outputs": [
    {
     "data": {
      "text/plain": [
       "(-500.0, 20500.0)"
      ]
     },
     "execution_count": 21,
     "metadata": {},
     "output_type": "execute_result"
    },
    {
     "data": {
      "image/png": "[encoded data removed]",
      "text/plain": [
       "<Figure size 640x480 with 1 Axes>"
      ]
     },
     "metadata": {},
     "output_type": "display_data"
    }
   ],
   "source": [
    "# graficando os pontos juntamente com o modelo\n",
    "Ln = np.linspace(0, 27.1, 51)#*1e-2\n",
    "\n",
    "figlr, axlr = plt.subplots()\n",
    "\n",
    "#axlr.plot((L)**3, x, 'ko', label=r'dados')\n",
    "axlr.plot(Ln**3, a*Ln**3 + b, label=r'fit $ x = \\alpha L^3 + \\beta$ ')\n",
    "#axlr.errorbar(x=L**3, y=x, xerr=DL3, marker='s', mec='k', linestyle='None', ms=5, mfc='None', label='dados', ecolor='k')\n",
    "# pontos proporcionais ao erro\n",
    "axlr.scatter(x=L**3, y=x, s=0.25*DL3, marker='s',facecolors='None', edgecolors='k', label='dados')\n",
    "\n",
    "\n",
    "\n",
    "axlr.text(0.95, 0.05, rf\"$\\alpha=({a1s[0]} \\pm {a1s[1]}) cm^{-2}$ \\\\ $\\beta=({b1s[0]} \\pm {b1s[1]}) cm $\".format(100, 20), transform=axlr.transAxes, ha='right', va='bottom', ma='right', bbox=dict(boxstyle=\"square\",ec='k',fc='w',))\n",
    "#axlr.text(0.95, 0.05, rf\"$\\alpha={a1s.replace('E-4','')}$ \\\\ $\\beta={b1s[0]} \\pm {b1s[1]}$\".format(100, 20), transform=axlr.transAxes, ha='right', va='bottom', ma='right', bbox=dict(boxstyle=\"square\",ec='k',fc='w',))\n",
    "\n",
    "\n",
    "leglr = axlr.legend()\n",
    "axlr.set_ylabel(r'$x (\\pm 0.1 cm)$')\n",
    "axlr.set_xlabel(r'$L^3 (\\pm \\Delta L^3 cm^{3})$')\n",
    "axlr.grid()\n",
    "axlr.set_ylim(-0.0,6.0)\n",
    "axlr.set_xlim(-500,20500)"
   ]
  },
  {
   "cell_type": "markdown",
   "id": "f2a45230",
   "metadata": {},
   "source": [
    "Agora, vamos estudar o caso log-log.\n",
    "\n",
    "Lembramos que o nosso modelo agora tem duas variáveis $Y = \\log(x)$ e $X = \\log(L)$ e é dado por\n",
    "\n",
    "$$ Y  = b + a X$$\n",
    "\n",
    "e queremos encontrar $a \\sim 3$\n",
    "\n"
   ]
  },
  {
   "cell_type": "code",
   "execution_count": 19,
   "id": "287a55d4",
   "metadata": {},
   "outputs": [
    {
     "name": "stdout",
     "output_type": "stream",
     "text": [
      " R-quadrado (o que nos diz quão bom é o nosso modelo): 0.9908096931612368\n",
      "\n",
      " Y = aX + b ->2.973194347359804X + -7.999049854860719 \n",
      "\n",
      " a = 2.973194347359804 +- 0.07603908069794471 \n",
      "\n",
      " b = -7.999049854860719 +- 0.21174308826435995 \n",
      "\n",
      " OBS: Note que os coeficientes não foram arredondados conforme seu erro! \n",
      " \n"
     ]
    }
   ],
   "source": [
    "# criamos um modelo de regressão linear relacionando x com L\n",
    "def model_logx_vs_logL(X, a, b):\n",
    "    return a * X + b\n",
    "\n",
    "\n",
    "# agora, usando a função curve_fit, calcularemos os coeficientes e seus erros\n",
    "coefs_log, cov_log = curve_fit(model_logx_vs_logL, np.log(L), np.log(x))\n",
    "coefslog_err = np.sqrt(np.diag(cov_log))\n",
    "\n",
    "\n",
    "a = coefs_log[0]\n",
    "b = coefs_log[1]\n",
    "xfit = np.exp(b) * L**a\n",
    "\n",
    "a_err = coefslog_err[0]\n",
    "b_err = coefslog_err[1]\n",
    "\n",
    "# fitting y = ax + b\n",
    "r2 = r2_score(xfit, x)\n",
    "print(f\" R-quadrado (o que nos diz quão bom é o nosso modelo): {r2}\\n\")\n",
    "\n",
    "print(f\" Y = aX + b ->{a}X + {b} \\n\")\n",
    "print(f\" a = {a} +- {a_err} \\n\")\n",
    "print(f\" b = {b} +- {b_err} \\n\")\n",
    "print(f\" OBS: Note que os coeficientes não foram arredondados conforme seu erro! \\n \")\n"
   ]
  },
  {
   "cell_type": "markdown",
   "id": "7970d8c0",
   "metadata": {},
   "source": [
    "Agora, plotamos os dados versus o modelo"
   ]
  },
  {
   "cell_type": "code",
   "execution_count": 20,
   "id": "2422f65d",
   "metadata": {},
   "outputs": [
    {
     "name": "stdout",
     "output_type": "stream",
     "text": [
      " R-quadrado (o que nos diz quão bom é o nosso modelo): 0.9987836993325138\n",
      "\n",
      " y = k L^n ->0.0007425097580580143 L^2.708830038805005 \n",
      "\n",
      " k = 0.0007425097580580143 +- 0.00011371003876494253 \n",
      "\n",
      " n = 2.708830038805005 +- 0.04819343001265986 \n",
      "\n",
      " OBS: Note que os coeficientes não foram arredondados conforme seu erro! \n",
      " \n"
     ]
    }
   ],
   "source": [
    "# veja que outro modelo é\n",
    "def model_x_power_L(L,k,n):\n",
    "    return k*np.power(L, n)\n",
    "\n",
    "# agora, usando a função curve_fit, calcularemos os coeficientes e seus erros\n",
    "coefs_log, cov_log = curve_fit(model_x_power_L, L, x)\n",
    "coefslog_err = np.sqrt(np.diag(cov_log))\n",
    "\n",
    "\n",
    "k = coefs_log[0]\n",
    "n = coefs_log[1]\n",
    "xfit = k*np.power(L, n)\n",
    "\n",
    "k_err = coefslog_err[0]\n",
    "n_err = coefslog_err[1]\n",
    "\n",
    "# fitting y = ax + b\n",
    "r2 = r2_score(xfit, x)\n",
    "print(f\" R-quadrado (o que nos diz quão bom é o nosso modelo): {r2}\\n\")\n",
    "\n",
    "print(f\" y = k L^n ->{k} L^{n} \\n\")\n",
    "print(f\" k = {k} +- {k_err} \\n\")\n",
    "print(f\" n = {n} +- {n_err} \\n\")\n",
    "print(f\" OBS: Note que os coeficientes não foram arredondados conforme seu erro! \\n \")\n"
   ]
  },
  {
   "cell_type": "code",
   "execution_count": 21,
   "id": "998f5dd3",
   "metadata": {},
   "outputs": [
    {
     "data": {
      "text/plain": [
       "Text(0.5, 0, '$(L\\\\pm0.1)$cm')"
      ]
     },
     "execution_count": 21,
     "metadata": {},
     "output_type": "execute_result"
    },
    {
     "data": {
      "image/png": "[encoded data removed]",
      "text/plain": [
       "<Figure size 500x500 with 1 Axes>"
      ]
     },
     "metadata": {},
     "output_type": "display_data"
    }
   ],
   "source": [
    "newL = np.logspace(-1, 1.5, 51, base=10)\n",
    "\n",
    "\n",
    "figLL, axLL = plt.subplots(figsize=(5,5))\n",
    "axLL.set_xscale('log')\n",
    "axLL.set_yscale('log')\n",
    "axLL.plot(L,x, 'ko', label=r'dados')\n",
    "\n",
    "# note que ao retomar da escala log para a escala linear, o coeficiente original k = e^\n",
    "axLL.plot(newL, np.exp(b)*newL**a, 'b-', label=r\"$Y' = aX' + b$\")\n",
    "axLL.plot(newL, k*newL**n, 'r--', label=r\"$Y = k {X}^n$\")\n",
    "\n",
    "leg = axLL.legend()\n",
    "\n",
    "axLL.set_xlim(1e-0,1e2)\n",
    "axLL.set_ylim(1e-1,1e1)\n",
    "plt.grid(visible=True, which='both', color='0.65', linestyle='-')\n",
    "axLL.set_ylabel(r'$(x\\pm0.1)$cm')\n",
    "axLL.set_xlabel(r'$(L\\pm0.1)$cm')"
   ]
  }
 ],
 "metadata": {
  "kernelspec": {
   "display_name": "Python 3 (ipykernel)",
   "language": "python",
   "name": "python3"
  },
  "language_info": {
   "codemirror_mode": {
    "name": "ipython",
    "version": 3
   },
   "file_extension": ".py",
   "mimetype": "text/x-python",
   "name": "python",
   "nbconvert_exporter": "python",
   "pygments_lexer": "ipython3",
   "version": "3.9.19"
  }
 },
 "nbformat": 4,
 "nbformat_minor": 5
}
